{
 "cells": [
  {
   "cell_type": "markdown",
   "metadata": {},
   "source": [
    ".pro 没有成功，但命令行可以指定多个文件，成功且生成一个ts文件；\n",
    "py循环调用命令行业成功，但不能合并为一个ts文件；"
   ]
  },
  {
   "cell_type": "code",
   "execution_count": 2,
   "metadata": {},
   "outputs": [],
   "source": [
    "#!/usr/bin/python\n",
    "import jinja2\n",
    "\n",
    "templateLoader = jinja2.FileSystemLoader( searchpath=\".\" )\n",
    "templateEnv = jinja2.Environment( loader=templateLoader )\n",
    "\n",
    "filelist = [r'canvas\\application\\addons.py',\n",
    "    r'canvas\\application\\canvasmain.py',\n",
    "    r'canvas\\application\\schemeinfo.py',\n",
    "    r'canvas\\application\\settings.py',\n",
    "    r'canvas\\application\\welcomedialog.py',\n",
    "    r'canvas\\canvas\\items\\annotationitem.py',\n",
    "    r'canvas\\document\\editlinksdialog.py',\n",
    "    r'canvas\\document\\interactions.py',\n",
    "    r'canvas\\document\\quickmenu.py',\n",
    "    r'canvas\\document\\schemeedit.py',\n",
    "    r'canvas\\preview\\previewbrowser.py',\n",
    "    r'canvas\\preview\\previewdialog.py',\n",
    "    r'widgets\\data\\owconcatenate.py',\n",
    "    r'widgets\\data\\owdiscretize.py',\n",
    "    r'widgets\\data\\owfeatureconstructor.py',\n",
    "    r'widgets\\data\\owimpute.py',\n",
    "    r'widgets\\data\\owrank.py',\n",
    "    r'widgets\\report\\owreport.py']\n",
    "\n",
    "templateVars = {\n",
    "    \"license_info\": \"This site is released under the GNU General Public License\",\n",
    "    \"title\": \"Toulibre rulez\",\n",
    "    \"flist\": filelist\n",
    "    }\n",
    "\n",
    "templateIndex = templateEnv.get_template( \"pylu5-all.bat.tpl\" )\n",
    "with open('pylu5-all.bat', 'w') as f:\n",
    "    f.write( templateIndex.render( templateVars ) )"
   ]
  },
  {
   "cell_type": "code",
   "execution_count": null,
   "metadata": {},
   "outputs": [],
   "source": []
  }
 ],
 "metadata": {
  "kernelspec": {
   "display_name": "Python 3",
   "language": "python",
   "name": "python3"
  },
  "language_info": {
   "codemirror_mode": {
    "name": "ipython",
    "version": 3
   },
   "file_extension": ".py",
   "mimetype": "text/x-python",
   "name": "python",
   "nbconvert_exporter": "python",
   "pygments_lexer": "ipython3",
   "version": "3.6.2"
  }
 },
 "nbformat": 4,
 "nbformat_minor": 2
}
