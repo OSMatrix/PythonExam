{
 "cells": [
  {
   "cell_type": "code",
   "execution_count": 2,
   "metadata": {},
   "outputs": [
    {
     "name": "stdout",
     "output_type": "stream",
     "text": [
      "Hello Toulibre!\n"
     ]
    }
   ],
   "source": [
    "#!/usr/bin/python\n",
    "\n",
    "from jinja2 import Template\n",
    "template = Template('Hello {{ name }}!')\n",
    "print(template.render(name='Toulibre'))"
   ]
  },
  {
   "cell_type": "markdown",
   "metadata": {},
   "source": [
    "### 2_jinja_file\n",
    "Now the template is in a separate file. The python code is used to load it, execute it to create a text buffer out of it."
   ]
  },
  {
   "cell_type": "code",
   "execution_count": 5,
   "metadata": {},
   "outputs": [
    {
     "name": "stdout",
     "output_type": "stream",
     "text": [
      "<jinja2.loaders.FileSystemLoader object at 0x0000023F19124908>\n",
      "This site is released under the GNU General Public License\n"
     ]
    }
   ],
   "source": [
    "#!/usr/bin/python\n",
    "\n",
    "import jinja2\n",
    "\n",
    "templateLoader = jinja2.FileSystemLoader( searchpath=\".\" )\n",
    "templateEnv = jinja2.Environment( loader=templateLoader )\n",
    "\n",
    "templateVars = {\n",
    "    \"license_info\": \"This site is released under the GNU General Public License\"\n",
    "}\n",
    "\n",
    "template = templateEnv.get_template( \"test.html\" )\n",
    "print(template.render( templateVars ))\n"
   ]
  },
  {
   "cell_type": "code",
   "execution_count": null,
   "metadata": {},
   "outputs": [],
   "source": []
  }
 ],
 "metadata": {
  "kernelspec": {
   "display_name": "Python 3",
   "language": "python",
   "name": "python3"
  },
  "language_info": {
   "codemirror_mode": {
    "name": "ipython",
    "version": 3
   },
   "file_extension": ".py",
   "mimetype": "text/x-python",
   "name": "python",
   "nbconvert_exporter": "python",
   "pygments_lexer": "ipython3",
   "version": "3.6.2"
  }
 },
 "nbformat": 4,
 "nbformat_minor": 2
}
